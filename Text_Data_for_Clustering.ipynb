{
  "nbformat": 4,
  "nbformat_minor": 0,
  "metadata": {
    "colab": {
      "provenance": [],
      "authorship_tag": "ABX9TyPolNbUw4hAcmrcC99tln8Q",
      "include_colab_link": true
    },
    "kernelspec": {
      "name": "python3",
      "display_name": "Python 3"
    },
    "language_info": {
      "name": "python"
    }
  },
  "cells": [
    {
      "cell_type": "markdown",
      "metadata": {
        "id": "view-in-github",
        "colab_type": "text"
      },
      "source": [
        "<a href=\"https://colab.research.google.com/github/Ishara20/Text_analysis_using_Python/blob/main/Text_Data_for_Clustering.ipynb\" target=\"_parent\"><img src=\"https://colab.research.google.com/assets/colab-badge.svg\" alt=\"Open In Colab\"/></a>"
      ]
    },
    {
      "cell_type": "code",
      "source": [
        "import pandas as pd\n",
        "from sklearn.feature_extraction.text import TfidfVectorizer\n",
        "\n",
        "# Load course hashtags\n",
        "hashtags_df = pd.read_csv(\"Course-Hashtags.csv\")\n",
        "print(\"\\nSample hashtag data:\")\n",
        "print(hashtags_df[:2])\n",
        "\n",
        "# Separate Hashtags and titles into lists\n",
        "hash_list = hashtags_df[\"HashTags\"].tolist()\n",
        "title_list = hashtags_df[\"Course\"].tolist()\n",
        "\n",
        "# Perform TF-IDF conversion of hashtags\n",
        "vectorizer = TfidfVectorizer(stop_words='english')\n",
        "hash_matrix = vectorizer.fit_transform(hash_list)\n",
        "\n",
        "print(\"\\nFeature names identified:\")\n",
        "print(vectorizer.get_feature_names_out())\n"
      ],
      "metadata": {
        "colab": {
          "base_uri": "https://localhost:8080/"
        },
        "id": "3UhG1J7ZFooG",
        "outputId": "95fa35fa-256f-4261-d4f8-4da008419b6d"
      },
      "execution_count": 5,
      "outputs": [
        {
          "output_type": "stream",
          "name": "stdout",
          "text": [
            "\n",
            "Sample hashtag data:\n",
            "                            Course                             HashTags\n",
            "0  Apache Spark Essential Training  BigData,DataScience,MachineLearning\n",
            "1           Java Memory Management            Java,Advanced,Programming\n",
            "\n",
            "Feature names identified:\n",
            "['advanced' 'automation' 'bigdata' 'datascience' 'design' 'developer'\n",
            " 'gcp' 'graphics' 'hadoop' 'ide' 'intermediate' 'java' 'jdbc' 'kubernetes'\n",
            " 'machinelearning' 'patterns' 'programming' 'python' 'scala' 'scripting']\n"
          ]
        }
      ]
    },
    {
      "cell_type": "markdown",
      "source": [
        "#Clustering TF-IDF data"
      ],
      "metadata": {
        "id": "3EU20BQn3aZz"
      }
    },
    {
      "cell_type": "code",
      "source": [
        "#Use KMeans clustering from scikit-learn\n",
        "from sklearn.cluster import KMeans\n",
        "\n",
        "#Split data into 3 clusters\n",
        "kmeans = KMeans(n_clusters=3).fit(hash_matrix)\n",
        "\n",
        "#get Cluster labels.\n",
        "clusters=kmeans.labels_\n",
        "\n",
        "#Print cluster label and Courses under each cluster\n",
        "for group in set(clusters):\n",
        "    print(\"\\nGroup : \",group, \"\\n-------------------\")\n",
        "\n",
        "    for i in hashtags_df.index:\n",
        "        if ( clusters[i] == group):\n",
        "            print(title_list[i])\n",
        ""
      ],
      "metadata": {
        "colab": {
          "base_uri": "https://localhost:8080/"
        },
        "id": "Qxwvy4yp3e-5",
        "outputId": "c39c481a-fb0a-413c-dc7e-d25d2129c759"
      },
      "execution_count": 5,
      "outputs": [
        {
          "output_type": "stream",
          "name": "stderr",
          "text": [
            "/usr/local/lib/python3.10/dist-packages/sklearn/cluster/_kmeans.py:870: FutureWarning: The default value of `n_init` will change from 10 to 'auto' in 1.4. Set the value of `n_init` explicitly to suppress the warning\n",
            "  warnings.warn(\n"
          ]
        },
        {
          "output_type": "stream",
          "name": "stdout",
          "text": [
            "\n",
            "Group :  0 \n",
            "-------------------\n",
            "Apache Spark Essential Training\n",
            "Machine Learning and AI Foundations\n",
            "Hadoop for Data Science\n",
            "Data Science on Google Cloud Platform\n",
            "Scala for Data Science\n",
            "\n",
            "Group :  1 \n",
            "-------------------\n",
            "Java Memory Management\n",
            "Java : Database Integration and JDBC\n",
            "R Programming\n",
            "Java IDE Overview\n",
            "Kubernetes for Java Developers\n",
            "\n",
            "Group :  2 \n",
            "-------------------\n",
            "Python Automation and Testing\n",
            "Python for Graphics\n",
            "Python Design Patterns\n",
            "Python Scripting\n"
          ]
        }
      ]
    },
    {
      "cell_type": "markdown",
      "source": [
        "#Finding optimal Cluster size"
      ],
      "metadata": {
        "id": "NRH5-4L43p13"
      }
    },
    {
      "cell_type": "code",
      "source": [
        "#Find optimal cluster size by finding sum-of-squared-distances\n",
        "\n",
        "sosd = []\n",
        "#Run clustering for sizes 1 to 15 and capture inertia\n",
        "K = range(1,15)\n",
        "for k in K:\n",
        "    km = KMeans(n_clusters=k)\n",
        "    km = km.fit(hash_matrix)\n",
        "    sosd.append(km.inertia_)\n",
        "\n",
        "print(\"Sum of squared distances : \" ,sosd)\n",
        "\n",
        "#Plot sosd against number of clusters\n",
        "import matplotlib.pyplot as mpLib\n",
        "mpLib.plot(K, sosd, 'bx-')\n",
        "mpLib.xlabel('Cluster count')\n",
        "mpLib.ylabel('Sum_of_squared_distances')\n",
        "mpLib.title('Elbow Method For Optimal Cluster Size')\n",
        "mpLib.show()\n"
      ],
      "metadata": {
        "colab": {
          "base_uri": "https://localhost:8080/",
          "height": 509
        },
        "id": "20TB4Sq33lmu",
        "outputId": "f067584f-2327-4377-f776-6ee8e3048ad9"
      },
      "execution_count": 6,
      "outputs": [
        {
          "output_type": "stream",
          "name": "stdout",
          "text": [
            "Sum of squared distances :  [11.433022387031059, 9.055813116540266, 6.761066172191217, 5.6283212260073165, 4.688883377604405, 3.8776553357988535, 3.348140671210957, 2.8186260066230613, 2.576036321890289, 1.807779789051295, 1.3264482360674248, 0.8457910455266846, 0.40164181287464107, 2.220446049250313e-16]\n"
          ]
        },
        {
          "output_type": "display_data",
          "data": {
            "text/plain": [
              "<Figure size 640x480 with 1 Axes>"
            ],
            "image/png": "[encoded data removed]"
          },
          "metadata": {}
        }
      ]
    }
  ]
}